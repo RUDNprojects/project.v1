{
 "cells": [
  {
   "cell_type": "code",
   "execution_count": 1,
   "metadata": {},
   "outputs": [
    {
     "name": "stderr",
     "output_type": "stream",
     "text": [
      "E:\\Anaconda\\lib\\site-packages\\h5py\\__init__.py:36: FutureWarning: Conversion of the second argument of issubdtype from `float` to `np.floating` is deprecated. In future, it will be treated as `np.float64 == np.dtype(float).type`.\n",
      "  from ._conv import register_converters as _register_converters\n",
      "Using Theano backend.\n",
      "Can not use cuDNN on context None: cannot compile with cuDNN. We got this error:\n",
      "b'C:\\\\Users\\\\acer\\\\AppData\\\\Local\\\\Temp\\\\try_flags_64fco5mv.c:4:19: fatal error: cudnn.h: No such file or directory\\r\\ncompilation terminated.\\r\\n'\n",
      "Preallocating 1638/2048 Mb (0.800000) on cuda\n",
      "Mapped name None to device cuda: GeForce 940M (0000:04:00.0)\n"
     ]
    }
   ],
   "source": [
    "from keras.preprocessing.image import ImageDataGenerator\n",
    "from keras.models import Sequential\n",
    "from keras.layers import Activation, Dropout, Flatten, Dense\n",
    "from keras.applications import InceptionV3\n",
    "from keras.optimizers import Adam"
   ]
  },
  {
   "cell_type": "code",
   "execution_count": 2,
   "metadata": {},
   "outputs": [],
   "source": [
    "# Каталог с данными для обучения\n",
    "train_dir = 'train'\n",
    "# Каталог с данными для проверки\n",
    "val_dir = 'val'\n",
    "# Каталог с данными для тестирования\n",
    "test_dir = 'test'\n",
    "# Размеры изображения\n",
    "img_width, img_height = 150, 150\n",
    "# Размерность тензора на основе изображения для входных данных в нейронную сеть\n",
    "input_shape = (3, img_width, img_height)\n",
    "# Размер мини-выборки\n",
    "batch_size = 64\n",
    "# Количество изображений для обучения\n",
    "nb_train_samples = 1646\n",
    "# Количество изображений для проверки\n",
    "nb_validation_samples = 540"
   ]
  },
  {
   "cell_type": "code",
   "execution_count": 3,
   "metadata": {},
   "outputs": [],
   "source": [
    " inception_net = InceptionV3(weights='imagenet', include_top=False, \n",
    "                             input_shape=(3, 150, 150))"
   ]
  },
  {
   "cell_type": "code",
   "execution_count": 4,
   "metadata": {},
   "outputs": [],
   "source": [
    "inception_net.trainable = False"
   ]
  },
  {
   "cell_type": "code",
   "execution_count": 5,
   "metadata": {},
   "outputs": [],
   "source": [
    "model = Sequential()\n",
    "model.add(inception_net)\n",
    "model.add(Flatten())\n",
    "model.add(Dense(256))\n",
    "model.add(Activation('relu'))\n",
    "model.add(Dropout(0.5))\n",
    "model.add(Dense(3))\n",
    "model.add(Activation('softmax'))"
   ]
  },
  {
   "cell_type": "code",
   "execution_count": 6,
   "metadata": {},
   "outputs": [
    {
     "name": "stdout",
     "output_type": "stream",
     "text": [
      "_________________________________________________________________\n",
      "Layer (type)                 Output Shape              Param #   \n",
      "=================================================================\n",
      "inception_v3 (Model)         (None, 2048, 3, 3)        21802784  \n",
      "_________________________________________________________________\n",
      "flatten_1 (Flatten)          (None, 18432)             0         \n",
      "_________________________________________________________________\n",
      "dense_1 (Dense)              (None, 256)               4718848   \n",
      "_________________________________________________________________\n",
      "activation_95 (Activation)   (None, 256)               0         \n",
      "_________________________________________________________________\n",
      "dropout_1 (Dropout)          (None, 256)               0         \n",
      "_________________________________________________________________\n",
      "dense_2 (Dense)              (None, 3)                 771       \n",
      "_________________________________________________________________\n",
      "activation_96 (Activation)   (None, 3)                 0         \n",
      "=================================================================\n",
      "Total params: 26,522,403\n",
      "Trainable params: 4,719,619\n",
      "Non-trainable params: 21,802,784\n",
      "_________________________________________________________________\n"
     ]
    }
   ],
   "source": [
    "model.summary()"
   ]
  },
  {
   "cell_type": "code",
   "execution_count": 7,
   "metadata": {},
   "outputs": [],
   "source": [
    "model.compile(loss='categorical_crossentropy',\n",
    "              optimizer=Adam(lr=1e-5), \n",
    "              metrics=['accuracy'])"
   ]
  },
  {
   "cell_type": "code",
   "execution_count": 8,
   "metadata": {},
   "outputs": [
    {
     "name": "stdout",
     "output_type": "stream",
     "text": [
      "Found 1646 images belonging to 3 classes.\n",
      "Found 540 images belonging to 3 classes.\n"
     ]
    }
   ],
   "source": [
    "datagen = ImageDataGenerator(rescale=1. / 255)\n",
    "\n",
    "train_generator = datagen.flow_from_directory(\n",
    "    train_dir,\n",
    "    target_size=(img_width, img_height),\n",
    "    batch_size=batch_size,\n",
    "    class_mode='categorical')\n",
    "\n",
    "val_generator = datagen.flow_from_directory(\n",
    "    val_dir,\n",
    "    target_size=(img_width, img_height),\n",
    "    batch_size=batch_size,\n",
    "    class_mode='categorical')"
   ]
  },
  {
   "cell_type": "code",
   "execution_count": 9,
   "metadata": {},
   "outputs": [
    {
     "name": "stdout",
     "output_type": "stream",
     "text": [
      "Epoch 1/10\n",
      "25/25 [==============================] - 145s 6s/step - loss: 1.1175 - acc: 0.4973 - val_loss: 1.0826 - val_acc: 0.7051\n",
      "Epoch 2/10\n",
      "25/25 [==============================] - 130s 5s/step - loss: 0.8847 - acc: 0.6208 - val_loss: 0.9040 - val_acc: 0.7539\n",
      "Epoch 3/10\n",
      "25/25 [==============================] - 125s 5s/step - loss: 0.7532 - acc: 0.6933 - val_loss: 0.7186 - val_acc: 0.8301\n",
      "Epoch 4/10\n",
      "25/25 [==============================] - 106s 4s/step - loss: 0.6475 - acc: 0.7325 - val_loss: 0.7872 - val_acc: 0.8281\n",
      "Epoch 5/10\n",
      "25/25 [==============================] - 105s 4s/step - loss: 0.6042 - acc: 0.7722 - val_loss: 0.8262 - val_acc: 0.8359\n",
      "Epoch 6/10\n",
      "25/25 [==============================] - 106s 4s/step - loss: 0.5409 - acc: 0.7956 - val_loss: 0.8995 - val_acc: 0.8301\n",
      "Epoch 7/10\n",
      "25/25 [==============================] - 104s 4s/step - loss: 0.5020 - acc: 0.8100 - val_loss: 0.9282 - val_acc: 0.8320\n",
      "Epoch 8/10\n",
      "25/25 [==============================] - 103s 4s/step - loss: 0.4926 - acc: 0.8048 - val_loss: 0.9462 - val_acc: 0.8398\n",
      "Epoch 9/10\n",
      "25/25 [==============================] - 103s 4s/step - loss: 0.4149 - acc: 0.8450 - val_loss: 0.9569 - val_acc: 0.8379\n",
      "Epoch 10/10\n",
      "25/25 [==============================] - 108s 4s/step - loss: 0.4213 - acc: 0.8499 - val_loss: 1.0870 - val_acc: 0.8125\n"
     ]
    },
    {
     "data": {
      "text/plain": [
       "<keras.callbacks.History at 0x178074131d0>"
      ]
     },
     "execution_count": 9,
     "metadata": {},
     "output_type": "execute_result"
    }
   ],
   "source": [
    "model.fit_generator(\n",
    "    train_generator,\n",
    "    steps_per_epoch=nb_train_samples // batch_size,\n",
    "    epochs=10,\n",
    "    validation_data=val_generator,\n",
    "    validation_steps=nb_validation_samples // batch_size)"
   ]
  },
  {
   "cell_type": "code",
   "execution_count": 13,
   "metadata": {},
   "outputs": [],
   "source": [
    "# Генерируем описание модели в формате json\n",
    "model_json = model.to_json()\n",
    "# Записываем модель в файл\n",
    "json_file = open(\"mnist_modelv11.json\", \"w\")\n",
    "json_file.write(model_json)\n",
    "json_file.close()"
   ]
  },
  {
   "cell_type": "code",
   "execution_count": 14,
   "metadata": {},
   "outputs": [],
   "source": [
    "model.save_weights(\"mnist_modelv11.h5\")"
   ]
  },
  {
   "cell_type": "code",
   "execution_count": 12,
   "metadata": {},
   "outputs": [],
   "source": [
    "# from keras.preprocessing import image\n",
    "# from keras.applications.vgg16 import preprocess_input\n",
    "# import numpy as np\n",
    "\n",
    "# img = image.load_img('1.jpg', target_size=(150, 150))\n",
    "# x = image.img_to_array(img)\n",
    "# x = np.expand_dims(x, axis=0)\n",
    "# x = preprocess_input(x)\n",
    "# preds = model.predict(x)\n",
    "# print(preds)\n",
    "# if preds[0][0]>=0.5 and preds[0][0]<=1.5:\n",
    "#     print('Машина')\n",
    "# if preds[0][1]>=0.5 and preds[0][1]<=1.5:\n",
    "#     print('Грузовик')\n",
    "# if preds[0][2]>=0.5 and preds[0][2]<=1.5:\n",
    "#     print('Мотоцикл')\n",
    "# if (preds[0][0]<0.5 or preds[0][0]>1.5) and (preds[0][1]<0.5 or preds[0][1]>1.5) and (preds[0][2]<0.5 or preds[0][2]>1.5):\n",
    "#     print('Ничего')\n"
   ]
  },
  {
   "cell_type": "code",
   "execution_count": null,
   "metadata": {},
   "outputs": [],
   "source": []
  }
 ],
 "metadata": {
  "kernelspec": {
   "display_name": "Python 3",
   "language": "python",
   "name": "python3"
  },
  "language_info": {
   "codemirror_mode": {
    "name": "ipython",
    "version": 3
   },
   "file_extension": ".py",
   "mimetype": "text/x-python",
   "name": "python",
   "nbconvert_exporter": "python",
   "pygments_lexer": "ipython3",
   "version": "3.6.5"
  }
 },
 "nbformat": 4,
 "nbformat_minor": 2
}
